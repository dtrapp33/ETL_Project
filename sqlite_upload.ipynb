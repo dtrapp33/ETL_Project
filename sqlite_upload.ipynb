{
 "cells": [
  {
   "cell_type": "code",
   "execution_count": 17,
   "id": "c8bb8fcc",
   "metadata": {},
   "outputs": [],
   "source": [
    "import sqlite3\n",
    "import pandas as pd\n",
    "\n",
    "from pathlib import Path"
   ]
  },
  {
   "cell_type": "code",
   "execution_count": 18,
   "id": "58ca7e76",
   "metadata": {},
   "outputs": [],
   "source": [
    "database_path = \"boat.sqlite\"\n",
    "Path(database_path).touch()"
   ]
  },
  {
   "cell_type": "code",
   "execution_count": 19,
   "id": "92b0d1d3",
   "metadata": {},
   "outputs": [],
   "source": [
    "conn = sqlite3.connect(database_path)\n",
    "c = conn.cursor()"
   ]
  },
  {
   "cell_type": "code",
   "execution_count": 20,
   "id": "fb71a1d2",
   "metadata": {},
   "outputs": [
    {
     "ename": "OperationalError",
     "evalue": "table boat already exists",
     "output_type": "error",
     "traceback": [
      "\u001b[1;31m---------------------------------------------------------------------------\u001b[0m",
      "\u001b[1;31mOperationalError\u001b[0m                          Traceback (most recent call last)",
      "Cell \u001b[1;32mIn[20], line 1\u001b[0m\n\u001b[1;32m----> 1\u001b[0m \u001b[43mc\u001b[49m\u001b[38;5;241;43m.\u001b[39;49m\u001b[43mexecute\u001b[49m\u001b[43m(\u001b[49m\u001b[38;5;124;43m'''\u001b[39;49m\u001b[38;5;124;43mCREATE TABLE boat (ID int PRIMARY KEY, Currency text, Price float, Boat Type text, Manufacturer text, Year Built int,\u001b[39;49m\n\u001b[0;32m      2\u001b[0m \u001b[38;5;124;43m           Length (meters) float, Width (meters) float, Material text, Number of views last 7 days int, Date datetime, Price in EUR float,\u001b[39;49m\n\u001b[0;32m      3\u001b[0m \u001b[38;5;124;43m           Price in USD float, City text, Country text, Condition text, Fuel text)\u001b[39;49m\u001b[38;5;124;43m'''\u001b[39;49m\u001b[43m)\u001b[49m\n",
      "\u001b[1;31mOperationalError\u001b[0m: table boat already exists"
     ]
    }
   ],
   "source": [
    "c.execute('''CREATE TABLE boat (ID int PRIMARY KEY, Currency text, Price float, Boat Type text, Manufacturer text, Year Built int,\n",
    "          Length (meters) float, Width (meters) float, Material text, Number of views last 7 days int, Date datetime, Price in EUR float,\n",
    "          Price in USD float, City text, Country text, Condition text, Fuel text)''')"
   ]
  },
  {
   "cell_type": "code",
   "execution_count": 22,
   "id": "75e7d497",
   "metadata": {},
   "outputs": [
    {
     "data": {
      "text/plain": [
       "9888"
      ]
     },
     "execution_count": 22,
     "metadata": {},
     "output_type": "execute_result"
    }
   ],
   "source": [
    "csv_boat = pd.read_csv(\"ETL_Final.csv\")\n",
    "csv_boat.to_sql(\"boat\", conn, if_exists='replace', index=False)"
   ]
  },
  {
   "cell_type": "code",
   "execution_count": 16,
   "id": "80dc50b7",
   "metadata": {},
   "outputs": [],
   "source": [
    "conn.close()"
   ]
  }
 ],
 "metadata": {
  "kernelspec": {
   "display_name": "Python 3 (ipykernel)",
   "language": "python",
   "name": "python3"
  },
  "language_info": {
   "codemirror_mode": {
    "name": "ipython",
    "version": 3
   },
   "file_extension": ".py",
   "mimetype": "text/x-python",
   "name": "python",
   "nbconvert_exporter": "python",
   "pygments_lexer": "ipython3",
   "version": "3.10.9"
  }
 },
 "nbformat": 4,
 "nbformat_minor": 5
}
